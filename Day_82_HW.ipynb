{
 "cells": [
  {
   "cell_type": "markdown",
   "metadata": {},
   "source": [
    "## Work\n",
    "1. 請比較使用不同層數以及不同 Dropout rate 對訓練的效果\n",
    "2. 將 optimizer 改成使用 Adam 並加上適當的 dropout rate 檢視結果"
   ]
  },
  {
   "cell_type": "code",
   "execution_count": 1,
   "metadata": {},
   "outputs": [
    {
     "name": "stderr",
     "output_type": "stream",
     "text": [
      "Using TensorFlow backend.\n"
     ]
    }
   ],
   "source": [
    "import os\n",
    "import keras\n",
    "import itertools\n",
    "# Disable GPU\n",
    "os.environ[\"CUDA_VISIBLE_DEVICES\"] = \"\""
   ]
  },
  {
   "cell_type": "code",
   "execution_count": 2,
   "metadata": {},
   "outputs": [],
   "source": [
    "train, test = keras.datasets.cifar10.load_data()"
   ]
  },
  {
   "cell_type": "code",
   "execution_count": 3,
   "metadata": {},
   "outputs": [],
   "source": [
    "## 資料前處理\n",
    "def preproc_x(x, flatten=True):\n",
    "    x = x / 255.\n",
    "    if flatten:\n",
    "        x = x.reshape((len(x), -1))\n",
    "    return x\n",
    "\n",
    "def preproc_y(y, num_classes=10):\n",
    "    if y.shape[-1] == 1:\n",
    "        y = keras.utils.to_categorical(y, num_classes)\n",
    "    return y    "
   ]
  },
  {
   "cell_type": "code",
   "execution_count": 4,
   "metadata": {},
   "outputs": [],
   "source": [
    "x_train, y_train = train\n",
    "x_test, y_test = test\n",
    "\n",
    "# Preproc the inputs\n",
    "x_train = preproc_x(x_train)\n",
    "x_test = preproc_x(x_test)\n",
    "\n",
    "# Preprc the outputs\n",
    "y_train = preproc_y(y_train)\n",
    "y_test = preproc_y(y_test)"
   ]
  },
  {
   "cell_type": "code",
   "execution_count": 5,
   "metadata": {},
   "outputs": [],
   "source": [
    "from keras.layers import Dropout\n",
    "\n",
    "\"\"\"\n",
    "建立神經網路，並加入 dropout layer\n",
    "\"\"\"\n",
    "def build_mlp(input_shape, output_units=10, num_neurons=[1000, 500, 200, 100, 50], drp_ratio=0.3):\n",
    "    input_layer = keras.layers.Input(input_shape)\n",
    "    \n",
    "    for i, n_units in enumerate(num_neurons):\n",
    "        if i == 0:\n",
    "            x = keras.layers.Dense(units=n_units, \n",
    "                                   activation=\"relu\", \n",
    "                                   name=\"hidden_layer\"+str(i+1))(input_layer)\n",
    "            x = Dropout(drp_ratio)(x)\n",
    "        else:\n",
    "            x = keras.layers.Dense(units=n_units, \n",
    "                                   activation=\"relu\", \n",
    "                                   name=\"hidden_layer\"+str(i+1))(x)\n",
    "            x = Dropout(drp_ratio)(x)\n",
    "    \n",
    "    out = keras.layers.Dense(units=output_units, activation=\"softmax\", name=\"output\")(x)\n",
    "    \n",
    "    model = keras.models.Model(inputs=[input_layer], outputs=[out])\n",
    "    return model"
   ]
  },
  {
   "cell_type": "code",
   "execution_count": 6,
   "metadata": {},
   "outputs": [],
   "source": [
    "\"\"\"Code Here\n",
    "設定超參數\n",
    "\"\"\"\n",
    "LEARNING_RATE = 1e-3\n",
    "EPOCHS = 50\n",
    "BATCH_SIZE = 256\n",
    "MOMENTUM = 0.95\n",
    "Dropout_EXP = 0.35"
   ]
  },
  {
   "cell_type": "code",
   "execution_count": 9,
   "metadata": {
    "scrolled": true
   },
   "outputs": [
    {
     "name": "stdout",
     "output_type": "stream",
     "text": [
      "Model: \"model_3\"\n",
      "_________________________________________________________________\n",
      "Layer (type)                 Output Shape              Param #   \n",
      "=================================================================\n",
      "input_3 (InputLayer)         (None, 3072)              0         \n",
      "_________________________________________________________________\n",
      "hidden_layer1 (Dense)        (None, 1000)              3073000   \n",
      "_________________________________________________________________\n",
      "dropout_11 (Dropout)         (None, 1000)              0         \n",
      "_________________________________________________________________\n",
      "hidden_layer2 (Dense)        (None, 500)               500500    \n",
      "_________________________________________________________________\n",
      "dropout_12 (Dropout)         (None, 500)               0         \n",
      "_________________________________________________________________\n",
      "hidden_layer3 (Dense)        (None, 200)               100200    \n",
      "_________________________________________________________________\n",
      "dropout_13 (Dropout)         (None, 200)               0         \n",
      "_________________________________________________________________\n",
      "hidden_layer4 (Dense)        (None, 100)               20100     \n",
      "_________________________________________________________________\n",
      "dropout_14 (Dropout)         (None, 100)               0         \n",
      "_________________________________________________________________\n",
      "hidden_layer5 (Dense)        (None, 50)                5050      \n",
      "_________________________________________________________________\n",
      "dropout_15 (Dropout)         (None, 50)                0         \n",
      "_________________________________________________________________\n",
      "output (Dense)               (None, 10)                510       \n",
      "=================================================================\n",
      "Total params: 3,699,360\n",
      "Trainable params: 3,699,360\n",
      "Non-trainable params: 0\n",
      "_________________________________________________________________\n",
      "Train on 50000 samples, validate on 10000 samples\n",
      "Epoch 1/50\n",
      "50000/50000 [==============================] - 30s 600us/step - loss: 2.2660 - accuracy: 0.1324 - val_loss: 2.0896 - val_accuracy: 0.2006\n",
      "Epoch 2/50\n",
      "50000/50000 [==============================] - 28s 565us/step - loss: 2.0832 - accuracy: 0.2046 - val_loss: 1.9711 - val_accuracy: 0.2663\n",
      "Epoch 3/50\n",
      "50000/50000 [==============================] - 29s 587us/step - loss: 2.0202 - accuracy: 0.2348 - val_loss: 1.9337 - val_accuracy: 0.2830\n",
      "Epoch 4/50\n",
      "50000/50000 [==============================] - 28s 557us/step - loss: 1.9822 - accuracy: 0.2557 - val_loss: 1.9080 - val_accuracy: 0.2994\n",
      "Epoch 5/50\n",
      "50000/50000 [==============================] - 29s 577us/step - loss: 1.9580 - accuracy: 0.2631 - val_loss: 1.8960 - val_accuracy: 0.3127\n",
      "Epoch 6/50\n",
      "50000/50000 [==============================] - 27s 533us/step - loss: 1.9376 - accuracy: 0.2713 - val_loss: 1.8736 - val_accuracy: 0.3185\n",
      "Epoch 7/50\n",
      "50000/50000 [==============================] - 24s 482us/step - loss: 1.9169 - accuracy: 0.2782 - val_loss: 1.8670 - val_accuracy: 0.3192\n",
      "Epoch 8/50\n",
      "50000/50000 [==============================] - 25s 506us/step - loss: 1.9128 - accuracy: 0.2854 - val_loss: 1.8617 - val_accuracy: 0.3201\n",
      "Epoch 9/50\n",
      "50000/50000 [==============================] - 26s 529us/step - loss: 1.8936 - accuracy: 0.2885 - val_loss: 1.8447 - val_accuracy: 0.3375\n",
      "Epoch 10/50\n",
      "50000/50000 [==============================] - 25s 509us/step - loss: 1.8950 - accuracy: 0.2925 - val_loss: 1.8210 - val_accuracy: 0.3420\n",
      "Epoch 11/50\n",
      "50000/50000 [==============================] - 25s 509us/step - loss: 1.8799 - accuracy: 0.2942 - val_loss: 1.8307 - val_accuracy: 0.3401\n",
      "Epoch 12/50\n",
      "50000/50000 [==============================] - 24s 483us/step - loss: 1.8718 - accuracy: 0.3012 - val_loss: 1.8263 - val_accuracy: 0.3454\n",
      "Epoch 13/50\n",
      "50000/50000 [==============================] - 23s 469us/step - loss: 1.8644 - accuracy: 0.3042 - val_loss: 1.8185 - val_accuracy: 0.3431\n",
      "Epoch 14/50\n",
      "50000/50000 [==============================] - 23s 464us/step - loss: 1.8525 - accuracy: 0.3096 - val_loss: 1.7686 - val_accuracy: 0.3684\n",
      "Epoch 15/50\n",
      "50000/50000 [==============================] - 26s 518us/step - loss: 1.8450 - accuracy: 0.3129 - val_loss: 1.8093 - val_accuracy: 0.3402\n",
      "Epoch 16/50\n",
      "50000/50000 [==============================] - 24s 489us/step - loss: 1.8446 - accuracy: 0.3163 - val_loss: 1.7800 - val_accuracy: 0.3719\n",
      "Epoch 17/50\n",
      "50000/50000 [==============================] - 24s 480us/step - loss: 1.8356 - accuracy: 0.3216 - val_loss: 1.7919 - val_accuracy: 0.3670\n",
      "Epoch 18/50\n",
      "50000/50000 [==============================] - 25s 502us/step - loss: 1.8301 - accuracy: 0.3224 - val_loss: 1.7752 - val_accuracy: 0.3732\n",
      "Epoch 19/50\n",
      "50000/50000 [==============================] - 26s 519us/step - loss: 1.8341 - accuracy: 0.3260 - val_loss: 1.7628 - val_accuracy: 0.3852\n",
      "Epoch 20/50\n",
      "50000/50000 [==============================] - 25s 493us/step - loss: 1.8280 - accuracy: 0.3283 - val_loss: 1.7719 - val_accuracy: 0.3807\n",
      "Epoch 21/50\n",
      "50000/50000 [==============================] - 25s 504us/step - loss: 1.8213 - accuracy: 0.3312 - val_loss: 1.7781 - val_accuracy: 0.3528\n",
      "Epoch 22/50\n",
      "50000/50000 [==============================] - 25s 496us/step - loss: 1.8192 - accuracy: 0.3331 - val_loss: 1.7979 - val_accuracy: 0.3571\n",
      "Epoch 23/50\n",
      "50000/50000 [==============================] - 28s 566us/step - loss: 1.8013 - accuracy: 0.3397 - val_loss: 1.7950 - val_accuracy: 0.3665\n",
      "Epoch 24/50\n",
      "50000/50000 [==============================] - 26s 521us/step - loss: 1.8061 - accuracy: 0.3385 - val_loss: 1.7491 - val_accuracy: 0.3924\n",
      "Epoch 25/50\n",
      "50000/50000 [==============================] - 25s 496us/step - loss: 1.7976 - accuracy: 0.3417 - val_loss: 1.7570 - val_accuracy: 0.3732\n",
      "Epoch 26/50\n",
      "50000/50000 [==============================] - 25s 501us/step - loss: 1.7936 - accuracy: 0.3434 - val_loss: 1.7261 - val_accuracy: 0.3969\n",
      "Epoch 27/50\n",
      "50000/50000 [==============================] - 24s 482us/step - loss: 1.7974 - accuracy: 0.3413 - val_loss: 1.7716 - val_accuracy: 0.3793\n",
      "Epoch 28/50\n",
      "50000/50000 [==============================] - 24s 484us/step - loss: 1.7978 - accuracy: 0.3414 - val_loss: 1.7293 - val_accuracy: 0.3945\n",
      "Epoch 29/50\n",
      "50000/50000 [==============================] - 25s 498us/step - loss: 1.7976 - accuracy: 0.3407 - val_loss: 1.7161 - val_accuracy: 0.3978\n",
      "Epoch 30/50\n",
      "50000/50000 [==============================] - 26s 514us/step - loss: 1.7861 - accuracy: 0.3488 - val_loss: 1.7330 - val_accuracy: 0.3875\n",
      "Epoch 31/50\n",
      "50000/50000 [==============================] - 23s 465us/step - loss: 1.7885 - accuracy: 0.3446 - val_loss: 1.7089 - val_accuracy: 0.4027\n",
      "Epoch 32/50\n",
      "50000/50000 [==============================] - 25s 499us/step - loss: 1.7716 - accuracy: 0.3532 - val_loss: 1.7009 - val_accuracy: 0.4008\n",
      "Epoch 33/50\n",
      "50000/50000 [==============================] - 24s 484us/step - loss: 1.7778 - accuracy: 0.3525 - val_loss: 1.7389 - val_accuracy: 0.3836\n",
      "Epoch 34/50\n",
      "50000/50000 [==============================] - 24s 481us/step - loss: 1.7698 - accuracy: 0.3548 - val_loss: 1.6947 - val_accuracy: 0.4069\n",
      "Epoch 35/50\n",
      "50000/50000 [==============================] - 23s 465us/step - loss: 1.7695 - accuracy: 0.3528 - val_loss: 1.7050 - val_accuracy: 0.4072\n",
      "Epoch 36/50\n",
      "50000/50000 [==============================] - 23s 466us/step - loss: 1.7666 - accuracy: 0.3576 - val_loss: 1.7112 - val_accuracy: 0.4038\n",
      "Epoch 37/50\n",
      "50000/50000 [==============================] - 24s 484us/step - loss: 1.7639 - accuracy: 0.3571 - val_loss: 1.6983 - val_accuracy: 0.3984\n",
      "Epoch 38/50\n",
      "50000/50000 [==============================] - 26s 513us/step - loss: 1.7555 - accuracy: 0.3598 - val_loss: 1.7085 - val_accuracy: 0.4012\n",
      "Epoch 39/50\n",
      "50000/50000 [==============================] - 27s 535us/step - loss: 1.7586 - accuracy: 0.3588 - val_loss: 1.7137 - val_accuracy: 0.4027\n",
      "Epoch 40/50\n",
      "50000/50000 [==============================] - 27s 544us/step - loss: 1.7564 - accuracy: 0.3628 - val_loss: 1.6954 - val_accuracy: 0.4090\n",
      "Epoch 41/50\n",
      "50000/50000 [==============================] - 28s 551us/step - loss: 1.7485 - accuracy: 0.3619 - val_loss: 1.7125 - val_accuracy: 0.4012\n",
      "Epoch 42/50\n"
     ]
    },
    {
     "name": "stdout",
     "output_type": "stream",
     "text": [
      "50000/50000 [==============================] - 27s 541us/step - loss: 1.7468 - accuracy: 0.3669 - val_loss: 1.6955 - val_accuracy: 0.4012\n",
      "Epoch 43/50\n",
      "50000/50000 [==============================] - 22s 439us/step - loss: 1.7433 - accuracy: 0.3692 - val_loss: 1.6619 - val_accuracy: 0.4160\n",
      "Epoch 44/50\n",
      "50000/50000 [==============================] - 25s 508us/step - loss: 1.7471 - accuracy: 0.3661 - val_loss: 1.6809 - val_accuracy: 0.4070\n",
      "Epoch 45/50\n",
      "50000/50000 [==============================] - 25s 498us/step - loss: 1.7480 - accuracy: 0.3668 - val_loss: 1.6707 - val_accuracy: 0.4115\n",
      "Epoch 46/50\n",
      "50000/50000 [==============================] - 24s 473us/step - loss: 1.7341 - accuracy: 0.3694 - val_loss: 1.6841 - val_accuracy: 0.4095\n",
      "Epoch 47/50\n",
      "50000/50000 [==============================] - 24s 475us/step - loss: 1.7346 - accuracy: 0.3704 - val_loss: 1.6887 - val_accuracy: 0.4086\n",
      "Epoch 48/50\n",
      "50000/50000 [==============================] - 24s 490us/step - loss: 1.7323 - accuracy: 0.3732 - val_loss: 1.6591 - val_accuracy: 0.4167\n",
      "Epoch 49/50\n",
      "50000/50000 [==============================] - 24s 481us/step - loss: 1.7374 - accuracy: 0.3705 - val_loss: 1.6775 - val_accuracy: 0.4136\n",
      "Epoch 50/50\n",
      "50000/50000 [==============================] - 22s 447us/step - loss: 1.7358 - accuracy: 0.3736 - val_loss: 1.6818 - val_accuracy: 0.4107\n"
     ]
    }
   ],
   "source": [
    "results = {}\n",
    "\"\"\"Code Here\n",
    "撰寫你的訓練流程並將結果用 dictionary 紀錄\n",
    "\"\"\"\n",
    "model = build_mlp(input_shape=x_train.shape[1:], drp_ratio=Dropout_EXP)\n",
    "model.summary()\n",
    "optimizer = keras.optimizers.Adam(lr=LEARNING_RATE) #, nesterov=True, momentum=MOMENTUM\n",
    "model.compile(loss=\"categorical_crossentropy\", metrics=[\"accuracy\"], optimizer=optimizer)\n",
    "\n",
    "model.fit(x_train, y_train, \n",
    "          epochs=EPOCHS, \n",
    "          batch_size=BATCH_SIZE, \n",
    "          validation_data=(x_test, y_test), \n",
    "          shuffle=True)\n",
    "\n",
    "# Collect results\n",
    "train_loss = model.history.history[\"loss\"]\n",
    "valid_loss = model.history.history[\"val_loss\"]\n",
    "train_acc = model.history.history[\"accuracy\"]\n",
    "valid_acc = model.history.history[\"val_accuracy\"]"
   ]
  },
  {
   "cell_type": "code",
   "execution_count": 10,
   "metadata": {},
   "outputs": [
    {
     "data": {
      "image/png": "[encoded data removed]",
      "text/plain": [
       "<Figure size 432x288 with 1 Axes>"
      ]
     },
     "metadata": {
      "needs_background": "light"
     },
     "output_type": "display_data"
    },
    {
     "data": {
      "image/png": "[encoded data removed]",
      "text/plain": [
       "<Figure size 432x288 with 1 Axes>"
      ]
     },
     "metadata": {
      "needs_background": "light"
     },
     "output_type": "display_data"
    }
   ],
   "source": [
    "import matplotlib.pyplot as plt\n",
    "%matplotlib inline\n",
    "\"\"\"Code Here\n",
    "將結果繪出\n",
    "\"\"\"\n",
    "\n",
    "plt.plot(range(len(train_loss)), train_loss, label=\"train loss\")\n",
    "plt.plot(range(len(valid_loss)), valid_loss, label=\"valid loss\")\n",
    "plt.legend()\n",
    "plt.title(\"Loss\")\n",
    "plt.show()\n",
    "\n",
    "plt.plot(range(len(train_acc)), train_acc, label=\"train accuracy\")\n",
    "plt.plot(range(len(valid_acc)), valid_acc, label=\"valid accuracy\")\n",
    "plt.legend()\n",
    "plt.title(\"Accuracy\")\n",
    "plt.show()"
   ]
  },
  {
   "cell_type": "code",
   "execution_count": null,
   "metadata": {},
   "outputs": [],
   "source": []
  }
 ],
 "metadata": {
  "kernelspec": {
   "display_name": "Python 3",
   "language": "python",
   "name": "python3"
  },
  "language_info": {
   "codemirror_mode": {
    "name": "ipython",
    "version": 3
   },
   "file_extension": ".py",
   "mimetype": "text/x-python",
   "name": "python",
   "nbconvert_exporter": "python",
   "pygments_lexer": "ipython3",
   "version": "3.7.4"
  }
 },
 "nbformat": 4,
 "nbformat_minor": 2
}
