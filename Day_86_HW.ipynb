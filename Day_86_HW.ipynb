{
 "cells": [
  {
   "cell_type": "markdown",
   "metadata": {},
   "source": [
    "## Work\n",
    "1. 試比較 save_best_only 與否的差異\n",
    "2. 請僅存入將 save_weights_only 設定為 True, 並嘗試 reset ipynb 並將模型與權重重新建回並預測 x_test"
   ]
  },
  {
   "cell_type": "code",
   "execution_count": 1,
   "metadata": {},
   "outputs": [
    {
     "name": "stderr",
     "output_type": "stream",
     "text": [
      "Using TensorFlow backend.\n",
      "/Users/yiheng/.local/lib/python3.7/site-packages/tensorflow/python/framework/dtypes.py:516: FutureWarning: Passing (type, 1) or '1type' as a synonym of type is deprecated; in a future version of numpy, it will be understood as (type, (1,)) / '(1,)type'.\n",
      "  _np_qint8 = np.dtype([(\"qint8\", np.int8, 1)])\n",
      "/Users/yiheng/.local/lib/python3.7/site-packages/tensorflow/python/framework/dtypes.py:517: FutureWarning: Passing (type, 1) or '1type' as a synonym of type is deprecated; in a future version of numpy, it will be understood as (type, (1,)) / '(1,)type'.\n",
      "  _np_quint8 = np.dtype([(\"quint8\", np.uint8, 1)])\n",
      "/Users/yiheng/.local/lib/python3.7/site-packages/tensorflow/python/framework/dtypes.py:518: FutureWarning: Passing (type, 1) or '1type' as a synonym of type is deprecated; in a future version of numpy, it will be understood as (type, (1,)) / '(1,)type'.\n",
      "  _np_qint16 = np.dtype([(\"qint16\", np.int16, 1)])\n",
      "/Users/yiheng/.local/lib/python3.7/site-packages/tensorflow/python/framework/dtypes.py:519: FutureWarning: Passing (type, 1) or '1type' as a synonym of type is deprecated; in a future version of numpy, it will be understood as (type, (1,)) / '(1,)type'.\n",
      "  _np_quint16 = np.dtype([(\"quint16\", np.uint16, 1)])\n",
      "/Users/yiheng/.local/lib/python3.7/site-packages/tensorflow/python/framework/dtypes.py:520: FutureWarning: Passing (type, 1) or '1type' as a synonym of type is deprecated; in a future version of numpy, it will be understood as (type, (1,)) / '(1,)type'.\n",
      "  _np_qint32 = np.dtype([(\"qint32\", np.int32, 1)])\n",
      "/Users/yiheng/.local/lib/python3.7/site-packages/tensorflow/python/framework/dtypes.py:525: FutureWarning: Passing (type, 1) or '1type' as a synonym of type is deprecated; in a future version of numpy, it will be understood as (type, (1,)) / '(1,)type'.\n",
      "  np_resource = np.dtype([(\"resource\", np.ubyte, 1)])\n",
      "/Users/yiheng/.local/lib/python3.7/site-packages/tensorboard/compat/tensorflow_stub/dtypes.py:541: FutureWarning: Passing (type, 1) or '1type' as a synonym of type is deprecated; in a future version of numpy, it will be understood as (type, (1,)) / '(1,)type'.\n",
      "  _np_qint8 = np.dtype([(\"qint8\", np.int8, 1)])\n",
      "/Users/yiheng/.local/lib/python3.7/site-packages/tensorboard/compat/tensorflow_stub/dtypes.py:542: FutureWarning: Passing (type, 1) or '1type' as a synonym of type is deprecated; in a future version of numpy, it will be understood as (type, (1,)) / '(1,)type'.\n",
      "  _np_quint8 = np.dtype([(\"quint8\", np.uint8, 1)])\n",
      "/Users/yiheng/.local/lib/python3.7/site-packages/tensorboard/compat/tensorflow_stub/dtypes.py:543: FutureWarning: Passing (type, 1) or '1type' as a synonym of type is deprecated; in a future version of numpy, it will be understood as (type, (1,)) / '(1,)type'.\n",
      "  _np_qint16 = np.dtype([(\"qint16\", np.int16, 1)])\n",
      "/Users/yiheng/.local/lib/python3.7/site-packages/tensorboard/compat/tensorflow_stub/dtypes.py:544: FutureWarning: Passing (type, 1) or '1type' as a synonym of type is deprecated; in a future version of numpy, it will be understood as (type, (1,)) / '(1,)type'.\n",
      "  _np_quint16 = np.dtype([(\"quint16\", np.uint16, 1)])\n",
      "/Users/yiheng/.local/lib/python3.7/site-packages/tensorboard/compat/tensorflow_stub/dtypes.py:545: FutureWarning: Passing (type, 1) or '1type' as a synonym of type is deprecated; in a future version of numpy, it will be understood as (type, (1,)) / '(1,)type'.\n",
      "  _np_qint32 = np.dtype([(\"qint32\", np.int32, 1)])\n",
      "/Users/yiheng/.local/lib/python3.7/site-packages/tensorboard/compat/tensorflow_stub/dtypes.py:550: FutureWarning: Passing (type, 1) or '1type' as a synonym of type is deprecated; in a future version of numpy, it will be understood as (type, (1,)) / '(1,)type'.\n",
      "  np_resource = np.dtype([(\"resource\", np.ubyte, 1)])\n"
     ]
    }
   ],
   "source": [
    "import os\n",
    "import keras\n",
    "\n",
    "# Disable GPU\n",
    "os.environ[\"CUDA_VISIBLE_DEVICES\"] = \"\""
   ]
  },
  {
   "cell_type": "code",
   "execution_count": 2,
   "metadata": {},
   "outputs": [],
   "source": [
    "train, test = keras.datasets.cifar10.load_data()"
   ]
  },
  {
   "cell_type": "code",
   "execution_count": 3,
   "metadata": {},
   "outputs": [],
   "source": [
    "## 資料前處理\n",
    "def preproc_x(x, flatten=True):\n",
    "    x = x / 255.\n",
    "    if flatten:\n",
    "        x = x.reshape((len(x), -1))\n",
    "    return x\n",
    "\n",
    "def preproc_y(y, num_classes=10):\n",
    "    if y.shape[-1] == 1:\n",
    "        y = keras.utils.to_categorical(y, num_classes)\n",
    "    return y    "
   ]
  },
  {
   "cell_type": "code",
   "execution_count": 4,
   "metadata": {},
   "outputs": [],
   "source": [
    "x_train, y_train = train\n",
    "x_test, y_test = test\n",
    "\n",
    "# Preproc the inputs\n",
    "x_train = preproc_x(x_train)\n",
    "x_test = preproc_x(x_test)\n",
    "\n",
    "# Preprc the outputs\n",
    "y_train = preproc_y(y_train)\n",
    "y_test = preproc_y(y_test)"
   ]
  },
  {
   "cell_type": "code",
   "execution_count": 5,
   "metadata": {},
   "outputs": [],
   "source": [
    "from keras.layers import BatchNormalization\n",
    "\n",
    "\"\"\"\n",
    "建立神經網路，並加入 BN layer\n",
    "\"\"\"\n",
    "def build_mlp(input_shape, output_units=10, num_neurons=[1000, 500, 200, 100, 50]):\n",
    "    input_layer = keras.layers.Input(input_shape)\n",
    "    \n",
    "    for i, n_units in enumerate(num_neurons):\n",
    "        if i == 0:\n",
    "            x = keras.layers.Dense(units=n_units, \n",
    "                                   activation=\"relu\", \n",
    "                                   name=\"hidden_layer\"+str(i+1))(input_layer)\n",
    "            x = BatchNormalization()(x)\n",
    "        else:\n",
    "            x = keras.layers.Dense(units=n_units, \n",
    "                                   activation=\"relu\", \n",
    "                                   name=\"hidden_layer\"+str(i+1))(x)\n",
    "            x = BatchNormalization()(x)\n",
    "    \n",
    "    out = keras.layers.Dense(units=output_units, activation=\"softmax\", name=\"output\")(x)\n",
    "    \n",
    "    model = keras.models.Model(inputs=[input_layer], outputs=[out])\n",
    "    return model"
   ]
  },
  {
   "cell_type": "code",
   "execution_count": 6,
   "metadata": {},
   "outputs": [],
   "source": [
    "\"\"\"Code Here\n",
    "設定超參數\n",
    "\"\"\"\n",
    "LEARNING_RATE = 1e-3\n",
    "EPOCHS = 50\n",
    "BATCH_SIZE = 1024\n",
    "MOMENTUM = 0.95"
   ]
  },
  {
   "cell_type": "code",
   "execution_count": 7,
   "metadata": {},
   "outputs": [],
   "source": [
    "# 載入 Callbacks\n",
    "\"\"\"Code Here\n",
    "設定 callbacks: model checkpoint\n",
    "\"\"\"\n",
    "from keras.callbacks import ModelCheckpoint\n",
    "\n",
    "model_ckpt = ModelCheckpoint(filepath=\"./tmp.h5\", \n",
    "                             monitor=\"val_loss\", \n",
    "                             save_best_only=True)\n",
    "\n"
   ]
  },
  {
   "cell_type": "code",
   "execution_count": 8,
   "metadata": {},
   "outputs": [
    {
     "name": "stdout",
     "output_type": "stream",
     "text": [
      "Model: \"model_1\"\n",
      "_________________________________________________________________\n",
      "Layer (type)                 Output Shape              Param #   \n",
      "=================================================================\n",
      "input_1 (InputLayer)         (None, 3072)              0         \n",
      "_________________________________________________________________\n",
      "hidden_layer1 (Dense)        (None, 1000)              3073000   \n",
      "_________________________________________________________________\n",
      "batch_normalization_1 (Batch (None, 1000)              4000      \n",
      "_________________________________________________________________\n",
      "hidden_layer2 (Dense)        (None, 500)               500500    \n",
      "_________________________________________________________________\n",
      "batch_normalization_2 (Batch (None, 500)               2000      \n",
      "_________________________________________________________________\n",
      "hidden_layer3 (Dense)        (None, 200)               100200    \n",
      "_________________________________________________________________\n",
      "batch_normalization_3 (Batch (None, 200)               800       \n",
      "_________________________________________________________________\n",
      "hidden_layer4 (Dense)        (None, 100)               20100     \n",
      "_________________________________________________________________\n",
      "batch_normalization_4 (Batch (None, 100)               400       \n",
      "_________________________________________________________________\n",
      "hidden_layer5 (Dense)        (None, 50)                5050      \n",
      "_________________________________________________________________\n",
      "batch_normalization_5 (Batch (None, 50)                200       \n",
      "_________________________________________________________________\n",
      "output (Dense)               (None, 10)                510       \n",
      "=================================================================\n",
      "Total params: 3,706,760\n",
      "Trainable params: 3,703,060\n",
      "Non-trainable params: 3,700\n",
      "_________________________________________________________________\n"
     ]
    },
    {
     "name": "stderr",
     "output_type": "stream",
     "text": [
      "WARNING: Logging before flag parsing goes to stderr.\n",
      "W0109 11:37:56.630629 4619783616 deprecation_wrapper.py:119] From /Users/yiheng/opt/anaconda3/lib/python3.7/site-packages/keras/backend/tensorflow_backend.py:422: The name tf.global_variables is deprecated. Please use tf.compat.v1.global_variables instead.\n",
      "\n"
     ]
    },
    {
     "name": "stdout",
     "output_type": "stream",
     "text": [
      "Train on 50000 samples, validate on 10000 samples\n",
      "Epoch 1/50\n",
      "50000/50000 [==============================] - 6s 118us/step - loss: 2.2730 - accuracy: 0.2526 - val_loss: 2.1931 - val_accuracy: 0.1963\n",
      "Epoch 2/50\n",
      "50000/50000 [==============================] - 5s 104us/step - loss: 1.7892 - accuracy: 0.3791 - val_loss: 2.0290 - val_accuracy: 0.2936\n",
      "Epoch 3/50\n",
      "50000/50000 [==============================] - 5s 106us/step - loss: 1.6458 - accuracy: 0.4272 - val_loss: 1.8835 - val_accuracy: 0.3416\n",
      "Epoch 4/50\n",
      "50000/50000 [==============================] - 5s 106us/step - loss: 1.5529 - accuracy: 0.4593 - val_loss: 1.7620 - val_accuracy: 0.3867\n",
      "Epoch 5/50\n",
      "50000/50000 [==============================] - 5s 104us/step - loss: 1.4818 - accuracy: 0.4840 - val_loss: 1.6775 - val_accuracy: 0.4148\n",
      "Epoch 6/50\n",
      "50000/50000 [==============================] - 5s 108us/step - loss: 1.4219 - accuracy: 0.5071 - val_loss: 1.6204 - val_accuracy: 0.4334\n",
      "Epoch 7/50\n",
      "50000/50000 [==============================] - 5s 108us/step - loss: 1.3614 - accuracy: 0.5298 - val_loss: 1.5749 - val_accuracy: 0.4461\n",
      "Epoch 8/50\n",
      "50000/50000 [==============================] - 5s 103us/step - loss: 1.3134 - accuracy: 0.5464 - val_loss: 1.5500 - val_accuracy: 0.4543\n",
      "Epoch 9/50\n",
      "50000/50000 [==============================] - 6s 113us/step - loss: 1.2649 - accuracy: 0.5645 - val_loss: 1.5258 - val_accuracy: 0.4624\n",
      "Epoch 10/50\n",
      "50000/50000 [==============================] - 6s 114us/step - loss: 1.2203 - accuracy: 0.5816 - val_loss: 1.5244 - val_accuracy: 0.4696\n",
      "Epoch 11/50\n",
      "50000/50000 [==============================] - 5s 103us/step - loss: 1.1724 - accuracy: 0.6013 - val_loss: 1.5154 - val_accuracy: 0.4679\n",
      "Epoch 12/50\n",
      "50000/50000 [==============================] - 5s 108us/step - loss: 1.1288 - accuracy: 0.6172 - val_loss: 1.5170 - val_accuracy: 0.4737\n",
      "Epoch 13/50\n",
      "50000/50000 [==============================] - 6s 110us/step - loss: 1.0851 - accuracy: 0.6333 - val_loss: 1.5205 - val_accuracy: 0.4676\n",
      "Epoch 14/50\n",
      "50000/50000 [==============================] - 6s 112us/step - loss: 1.0430 - accuracy: 0.6500 - val_loss: 1.5287 - val_accuracy: 0.4671\n",
      "Epoch 15/50\n",
      "50000/50000 [==============================] - 5s 103us/step - loss: 1.0021 - accuracy: 0.6663 - val_loss: 1.5434 - val_accuracy: 0.4697\n",
      "Epoch 16/50\n",
      "50000/50000 [==============================] - 5s 103us/step - loss: 0.9589 - accuracy: 0.6833 - val_loss: 1.5312 - val_accuracy: 0.4744\n",
      "Epoch 17/50\n",
      "50000/50000 [==============================] - 5s 103us/step - loss: 0.9168 - accuracy: 0.7010 - val_loss: 1.5455 - val_accuracy: 0.4755\n",
      "Epoch 18/50\n",
      "50000/50000 [==============================] - 5s 105us/step - loss: 0.8769 - accuracy: 0.7143 - val_loss: 1.5543 - val_accuracy: 0.4750\n",
      "Epoch 19/50\n",
      "50000/50000 [==============================] - 5s 108us/step - loss: 0.8368 - accuracy: 0.7313 - val_loss: 1.5610 - val_accuracy: 0.4748\n",
      "Epoch 20/50\n",
      "50000/50000 [==============================] - 5s 103us/step - loss: 0.7952 - accuracy: 0.7475 - val_loss: 1.5654 - val_accuracy: 0.4807\n",
      "Epoch 21/50\n",
      "50000/50000 [==============================] - 5s 103us/step - loss: 0.7551 - accuracy: 0.7632 - val_loss: 1.5850 - val_accuracy: 0.4749\n",
      "Epoch 22/50\n",
      "50000/50000 [==============================] - 5s 103us/step - loss: 0.7139 - accuracy: 0.7801 - val_loss: 1.6002 - val_accuracy: 0.4761\n",
      "Epoch 23/50\n",
      "50000/50000 [==============================] - 5s 103us/step - loss: 0.6761 - accuracy: 0.7957 - val_loss: 1.6209 - val_accuracy: 0.4754\n",
      "Epoch 24/50\n",
      "50000/50000 [==============================] - 5s 103us/step - loss: 0.6390 - accuracy: 0.8099 - val_loss: 1.6508 - val_accuracy: 0.4729\n",
      "Epoch 25/50\n",
      "50000/50000 [==============================] - 5s 103us/step - loss: 0.6013 - accuracy: 0.8264 - val_loss: 1.6512 - val_accuracy: 0.4724\n",
      "Epoch 26/50\n",
      "50000/50000 [==============================] - 5s 103us/step - loss: 0.5668 - accuracy: 0.8376 - val_loss: 1.6890 - val_accuracy: 0.4741\n",
      "Epoch 27/50\n",
      "50000/50000 [==============================] - 5s 103us/step - loss: 0.5304 - accuracy: 0.8519 - val_loss: 1.7041 - val_accuracy: 0.4703\n",
      "Epoch 28/50\n",
      "50000/50000 [==============================] - 5s 103us/step - loss: 0.4965 - accuracy: 0.8660 - val_loss: 1.7418 - val_accuracy: 0.4688\n",
      "Epoch 29/50\n",
      "50000/50000 [==============================] - 5s 108us/step - loss: 0.4654 - accuracy: 0.8772 - val_loss: 1.7488 - val_accuracy: 0.4702\n",
      "Epoch 30/50\n",
      "50000/50000 [==============================] - 5s 107us/step - loss: 0.4324 - accuracy: 0.8896 - val_loss: 1.7788 - val_accuracy: 0.4698\n",
      "Epoch 31/50\n",
      "50000/50000 [==============================] - 5s 103us/step - loss: 0.4045 - accuracy: 0.8993 - val_loss: 1.8063 - val_accuracy: 0.4620\n",
      "Epoch 32/50\n",
      "50000/50000 [==============================] - 5s 103us/step - loss: 0.3759 - accuracy: 0.9101 - val_loss: 1.8562 - val_accuracy: 0.4688\n",
      "Epoch 33/50\n",
      "50000/50000 [==============================] - 5s 108us/step - loss: 0.3466 - accuracy: 0.9200 - val_loss: 1.8636 - val_accuracy: 0.4695\n",
      "Epoch 34/50\n",
      "50000/50000 [==============================] - 6s 111us/step - loss: 0.3223 - accuracy: 0.9292 - val_loss: 1.9036 - val_accuracy: 0.4594\n",
      "Epoch 35/50\n",
      "50000/50000 [==============================] - 6s 112us/step - loss: 0.2997 - accuracy: 0.9367 - val_loss: 1.9061 - val_accuracy: 0.4728\n",
      "Epoch 36/50\n",
      "50000/50000 [==============================] - 5s 105us/step - loss: 0.2755 - accuracy: 0.9441 - val_loss: 1.9414 - val_accuracy: 0.4698\n",
      "Epoch 37/50\n",
      "50000/50000 [==============================] - 5s 103us/step - loss: 0.2537 - accuracy: 0.9508 - val_loss: 1.9870 - val_accuracy: 0.4670\n",
      "Epoch 38/50\n",
      "50000/50000 [==============================] - 5s 102us/step - loss: 0.2343 - accuracy: 0.9571 - val_loss: 2.0163 - val_accuracy: 0.4660\n",
      "Epoch 39/50\n",
      "50000/50000 [==============================] - 5s 102us/step - loss: 0.2152 - accuracy: 0.9636 - val_loss: 2.0160 - val_accuracy: 0.4688\n",
      "Epoch 40/50\n",
      "50000/50000 [==============================] - 5s 102us/step - loss: 0.1977 - accuracy: 0.9692 - val_loss: 2.0604 - val_accuracy: 0.4677\n",
      "Epoch 41/50\n",
      "50000/50000 [==============================] - 5s 103us/step - loss: 0.1806 - accuracy: 0.9732 - val_loss: 2.1004 - val_accuracy: 0.4559\n",
      "Epoch 42/50\n",
      "50000/50000 [==============================] - 5s 103us/step - loss: 0.1676 - accuracy: 0.9774 - val_loss: 2.1172 - val_accuracy: 0.4640\n",
      "Epoch 43/50\n",
      "50000/50000 [==============================] - 5s 103us/step - loss: 0.1534 - accuracy: 0.9808 - val_loss: 2.1561 - val_accuracy: 0.4611\n",
      "Epoch 44/50\n",
      "50000/50000 [==============================] - 5s 103us/step - loss: 0.1413 - accuracy: 0.9828 - val_loss: 2.1913 - val_accuracy: 0.4575\n",
      "Epoch 45/50\n",
      "50000/50000 [==============================] - 5s 103us/step - loss: 0.1293 - accuracy: 0.9863 - val_loss: 2.2235 - val_accuracy: 0.4611\n",
      "Epoch 46/50\n",
      "50000/50000 [==============================] - 5s 104us/step - loss: 0.1188 - accuracy: 0.9885 - val_loss: 2.2381 - val_accuracy: 0.4644\n",
      "Epoch 47/50\n",
      "50000/50000 [==============================] - 5s 105us/step - loss: 0.1094 - accuracy: 0.9904 - val_loss: 2.2587 - val_accuracy: 0.4681\n",
      "Epoch 48/50\n",
      "50000/50000 [==============================] - 5s 102us/step - loss: 0.1012 - accuracy: 0.9919 - val_loss: 2.2709 - val_accuracy: 0.4646\n",
      "Epoch 49/50\n",
      "50000/50000 [==============================] - 5s 102us/step - loss: 0.0931 - accuracy: 0.9931 - val_loss: 2.2975 - val_accuracy: 0.4630\n",
      "Epoch 50/50\n",
      "50000/50000 [==============================] - 5s 104us/step - loss: 0.0861 - accuracy: 0.9942 - val_loss: 2.3328 - val_accuracy: 0.4554\n"
     ]
    }
   ],
   "source": [
    "results = {}\n",
    "\"\"\"Code Here\n",
    "撰寫你的訓練流程並將結果用 dictionary 紀錄\n",
    "\"\"\"\n",
    "model = build_mlp(input_shape=x_train.shape[1:])\n",
    "model.summary()\n",
    "optimizer = keras.optimizers.SGD(lr=LEARNING_RATE, nesterov=True, momentum=MOMENTUM)\n",
    "model.compile(loss=\"categorical_crossentropy\", metrics=[\"accuracy\"], optimizer=optimizer)\n",
    "\n",
    "model.fit(x_train, y_train, \n",
    "          epochs=EPOCHS, \n",
    "          batch_size=BATCH_SIZE, \n",
    "          validation_data=(x_test, y_test), \n",
    "          shuffle=True,\n",
    "          callbacks=[model_ckpt]\n",
    "         )\n",
    "\n",
    "# Collect results\n",
    "train_loss = model.history.history[\"loss\"]\n",
    "valid_loss = model.history.history[\"val_loss\"]\n",
    "train_acc = model.history.history[\"accuracy\"]\n",
    "valid_acc = model.history.history[\"val_accuracy\"]\n",
    "\n"
   ]
  },
  {
   "cell_type": "code",
   "execution_count": 9,
   "metadata": {},
   "outputs": [
    {
     "name": "stdout",
     "output_type": "stream",
     "text": [
      "10000/10000 [==============================] - 1s 113us/step\n"
     ]
    }
   ],
   "source": [
    "# Load back\n",
    "model = keras.models.load_model(\"./tmp.h5\")\n",
    "loss_loadback, acc_loadback = model.evaluate(x_test, y_test)"
   ]
  },
  {
   "cell_type": "code",
   "execution_count": 10,
   "metadata": {
    "scrolled": true
   },
   "outputs": [
    {
     "data": {
      "image/png": "[encoded data removed]",
      "text/plain": [
       "<Figure size 432x288 with 1 Axes>"
      ]
     },
     "metadata": {
      "needs_background": "light"
     },
     "output_type": "display_data"
    },
    {
     "data": {
      "image/png": "[encoded data removed]",
      "text/plain": [
       "<Figure size 432x288 with 1 Axes>"
      ]
     },
     "metadata": {
      "needs_background": "light"
     },
     "output_type": "display_data"
    }
   ],
   "source": [
    "import matplotlib.pyplot as plt\n",
    "%matplotlib inline\n",
    "\n",
    "plt.plot(range(len(train_loss)), train_loss, label=\"train loss\")\n",
    "plt.plot(range(len(valid_loss)), valid_loss, label=\"valid loss\")\n",
    "plt.hlines(y=loss_loadback, xmin=0, xmax=len(train_loss), colors='r', linestyles='--')\n",
    "plt.legend()\n",
    "plt.title(\"Loss\")\n",
    "plt.show()\n",
    "\n",
    "plt.plot(range(len(train_acc)), train_acc, label=\"train accuracy\")\n",
    "plt.plot(range(len(valid_acc)), valid_acc, label=\"valid accuracy\")\n",
    "plt.hlines(y=acc_loadback, xmin=0, xmax=len(train_loss), colors='r', linestyles='--')\n",
    "plt.legend()\n",
    "plt.title(\"Accuracy\")\n",
    "plt.show()"
   ]
  },
  {
   "cell_type": "code",
   "execution_count": null,
   "metadata": {},
   "outputs": [],
   "source": []
  }
 ],
 "metadata": {
  "kernelspec": {
   "display_name": "Python 3",
   "language": "python",
   "name": "python3"
  },
  "language_info": {
   "codemirror_mode": {
    "name": "ipython",
    "version": 3
   },
   "file_extension": ".py",
   "mimetype": "text/x-python",
   "name": "python",
   "nbconvert_exporter": "python",
   "pygments_lexer": "ipython3",
   "version": "3.7.4"
  }
 },
 "nbformat": 4,
 "nbformat_minor": 2
}
