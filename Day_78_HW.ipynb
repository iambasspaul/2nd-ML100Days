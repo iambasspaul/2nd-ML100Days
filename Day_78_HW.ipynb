{
 "cells": [
  {
   "cell_type": "markdown",
   "metadata": {},
   "source": [
    "## Work\n",
    "1. 請嘗試將 preproc_x 替換成以每筆資料的 min/max 進行標準化至 -1 ~ 1 間，再進行訓練\n",
    "2. 請嘗試將 mlp 疊更深 (e.g 5~10 層)，進行訓練後觀察 learning curve 的走勢\n",
    "3. (optional) 請改用 GPU 進行訓練 (如果你有 GPU 的話)，比較使用 CPU 與 GPU 的訓練速度"
   ]
  },
  {
   "cell_type": "code",
   "execution_count": 1,
   "metadata": {},
   "outputs": [
    {
     "data": {
      "text/plain": [
       "'\\nYour code here (optional)\\n確認硬體資源\\n'"
      ]
     },
     "execution_count": 1,
     "metadata": {},
     "output_type": "execute_result"
    }
   ],
   "source": [
    "## \n",
    "\"\"\"\n",
    "Your code here (optional)\n",
    "確認硬體資源\n",
    "\"\"\"\n"
   ]
  },
  {
   "cell_type": "code",
   "execution_count": 2,
   "metadata": {},
   "outputs": [
    {
     "name": "stderr",
     "output_type": "stream",
     "text": [
      "Using TensorFlow backend.\n"
     ]
    }
   ],
   "source": [
    "import os\n",
    "import keras\n",
    "\n",
    "# 請嘗試設定 GPU：os.environ\n",
    "os.environ[\"CUDA_VISIBLE_DEVICES\"] = \"\""
   ]
  },
  {
   "cell_type": "code",
   "execution_count": 3,
   "metadata": {},
   "outputs": [],
   "source": [
    "train, test = keras.datasets.cifar10.load_data()"
   ]
  },
  {
   "cell_type": "code",
   "execution_count": 4,
   "metadata": {},
   "outputs": [],
   "source": [
    "## 資料前處理\n",
    "\"\"\"\n",
    "Your code here\n",
    "\"\"\"\n",
    "def preproc_x(x, flatten=True):\n",
    "    x = x / 255.\n",
    "    if flatten:\n",
    "        x = x.reshape((len(x), -1))\n",
    "    return x\n",
    "\n",
    "def preproc_y(y, num_classes=20):\n",
    "    if y.shape[-1] == 1:\n",
    "        y = keras.utils.to_categorical(y, num_classes)\n",
    "    return y   "
   ]
  },
  {
   "cell_type": "code",
   "execution_count": 5,
   "metadata": {},
   "outputs": [],
   "source": [
    "x_train, y_train = train\n",
    "x_test, y_test = test\n",
    "\n",
    "# Preproc the inputs\n",
    "x_train = preproc_x(x_train)\n",
    "x_test = preproc_x(x_test)\n",
    "\n",
    "# Preprc the outputs\n",
    "y_train = preproc_y(y_train)\n",
    "y_test = preproc_y(y_test)"
   ]
  },
  {
   "cell_type": "code",
   "execution_count": 6,
   "metadata": {},
   "outputs": [],
   "source": [
    "\"\"\"Code Here\n",
    "建立你的神經網路\n",
    "\"\"\"\n",
    "def build_mlp(input_shape, output_units=20, num_neurons=[1024, 512, 256]):\n",
    "    input_layer = keras.layers.Input(input_shape)\n",
    "    \n",
    "    for i, n_units in enumerate(num_neurons):\n",
    "        if i == 0:\n",
    "            x = keras.layers.Dense(units=n_units, activation=\"relu\", name=\"hidden_layer\"+str(i+3))(input_layer)\n",
    "        else:\n",
    "            x = keras.layers.Dense(units=n_units, activation=\"relu\", name=\"hidden_layer\"+str(i+3))(x)\n",
    "    \n",
    "    out = keras.layers.Dense(units=output_units, activation=\"softmax\", name=\"output\")(x)\n",
    "    \n",
    "    model = keras.models.Model(inputs=[input_layer], outputs=[out])\n",
    "    return model\n",
    "\n"
   ]
  },
  {
   "cell_type": "code",
   "execution_count": 7,
   "metadata": {},
   "outputs": [
    {
     "name": "stdout",
     "output_type": "stream",
     "text": [
      "Model: \"model_1\"\n",
      "_________________________________________________________________\n",
      "Layer (type)                 Output Shape              Param #   \n",
      "=================================================================\n",
      "input_1 (InputLayer)         (None, 3072)              0         \n",
      "_________________________________________________________________\n",
      "hidden_layer3 (Dense)        (None, 1024)              3146752   \n",
      "_________________________________________________________________\n",
      "hidden_layer4 (Dense)        (None, 512)               524800    \n",
      "_________________________________________________________________\n",
      "hidden_layer5 (Dense)        (None, 256)               131328    \n",
      "_________________________________________________________________\n",
      "output (Dense)               (None, 20)                5140      \n",
      "=================================================================\n",
      "Total params: 3,808,020\n",
      "Trainable params: 3,808,020\n",
      "Non-trainable params: 0\n",
      "_________________________________________________________________\n"
     ]
    }
   ],
   "source": [
    "model = build_mlp(input_shape=x_train.shape[1:])\n",
    "model.summary()"
   ]
  },
  {
   "cell_type": "code",
   "execution_count": 8,
   "metadata": {},
   "outputs": [],
   "source": [
    "## 超參數設定\n",
    "LEARNING_RATE = 0.001\n",
    "EPOCHS = 50\n",
    "BATCH_SIZE = 128"
   ]
  },
  {
   "cell_type": "code",
   "execution_count": 9,
   "metadata": {},
   "outputs": [],
   "source": [
    "optimizer = keras.optimizers.Adam(lr=LEARNING_RATE)\n",
    "model.compile(loss=\"categorical_crossentropy\", metrics=[\"accuracy\"], optimizer=optimizer)"
   ]
  },
  {
   "cell_type": "code",
   "execution_count": 10,
   "metadata": {},
   "outputs": [
    {
     "name": "stdout",
     "output_type": "stream",
     "text": [
      "Train on 50000 samples, validate on 10000 samples\n",
      "Epoch 1/50\n",
      "50000/50000 [==============================] - 43s 867us/step - loss: 1.9032 - accuracy: 0.3128 - val_loss: 1.6943 - val_accuracy: 0.3835\n",
      "Epoch 2/50\n",
      "50000/50000 [==============================] - 43s 864us/step - loss: 1.6783 - accuracy: 0.3973 - val_loss: 1.6181 - val_accuracy: 0.4292\n",
      "Epoch 3/50\n",
      "50000/50000 [==============================] - 41s 816us/step - loss: 1.5801 - accuracy: 0.4358 - val_loss: 1.5582 - val_accuracy: 0.4457\n",
      "Epoch 4/50\n",
      "50000/50000 [==============================] - 40s 791us/step - loss: 1.5090 - accuracy: 0.4600 - val_loss: 1.4957 - val_accuracy: 0.4624\n",
      "Epoch 5/50\n",
      "50000/50000 [==============================] - 41s 817us/step - loss: 1.4664 - accuracy: 0.4749 - val_loss: 1.4795 - val_accuracy: 0.4694\n",
      "Epoch 6/50\n",
      "50000/50000 [==============================] - 43s 870us/step - loss: 1.4257 - accuracy: 0.4903 - val_loss: 1.4480 - val_accuracy: 0.4822\n",
      "Epoch 7/50\n",
      "50000/50000 [==============================] - 42s 846us/step - loss: 1.3975 - accuracy: 0.4980 - val_loss: 1.4161 - val_accuracy: 0.5000\n",
      "Epoch 8/50\n",
      "50000/50000 [==============================] - 41s 812us/step - loss: 1.3560 - accuracy: 0.5175 - val_loss: 1.4574 - val_accuracy: 0.4782\n",
      "Epoch 9/50\n",
      "50000/50000 [==============================] - 36s 718us/step - loss: 1.3194 - accuracy: 0.5290 - val_loss: 1.3960 - val_accuracy: 0.5024\n",
      "Epoch 10/50\n",
      "50000/50000 [==============================] - 38s 770us/step - loss: 1.2947 - accuracy: 0.5361 - val_loss: 1.3815 - val_accuracy: 0.5091\n",
      "Epoch 11/50\n",
      "50000/50000 [==============================] - 38s 754us/step - loss: 1.2630 - accuracy: 0.5479 - val_loss: 1.3661 - val_accuracy: 0.5154\n",
      "Epoch 12/50\n",
      "50000/50000 [==============================] - 39s 775us/step - loss: 1.2339 - accuracy: 0.5582 - val_loss: 1.3834 - val_accuracy: 0.5101\n",
      "Epoch 13/50\n",
      "50000/50000 [==============================] - 40s 808us/step - loss: 1.2061 - accuracy: 0.5675 - val_loss: 1.4235 - val_accuracy: 0.5007\n",
      "Epoch 14/50\n",
      "50000/50000 [==============================] - 39s 779us/step - loss: 1.1761 - accuracy: 0.5785 - val_loss: 1.4188 - val_accuracy: 0.4994\n",
      "Epoch 15/50\n",
      "50000/50000 [==============================] - 38s 770us/step - loss: 1.1583 - accuracy: 0.5859 - val_loss: 1.3571 - val_accuracy: 0.5253\n",
      "Epoch 16/50\n",
      "50000/50000 [==============================] - 37s 731us/step - loss: 1.1270 - accuracy: 0.5970 - val_loss: 1.3673 - val_accuracy: 0.5298\n",
      "Epoch 17/50\n",
      "50000/50000 [==============================] - 36s 727us/step - loss: 1.0889 - accuracy: 0.6093 - val_loss: 1.3978 - val_accuracy: 0.5256\n",
      "Epoch 18/50\n",
      "50000/50000 [==============================] - 35s 706us/step - loss: 1.0630 - accuracy: 0.6191 - val_loss: 1.3853 - val_accuracy: 0.5192\n",
      "Epoch 19/50\n",
      "50000/50000 [==============================] - 35s 705us/step - loss: 1.0365 - accuracy: 0.6283 - val_loss: 1.3859 - val_accuracy: 0.5277\n",
      "Epoch 20/50\n",
      "50000/50000 [==============================] - 38s 756us/step - loss: 1.0089 - accuracy: 0.6374 - val_loss: 1.4242 - val_accuracy: 0.5218\n",
      "Epoch 21/50\n",
      "50000/50000 [==============================] - 40s 799us/step - loss: 0.9812 - accuracy: 0.6473 - val_loss: 1.3924 - val_accuracy: 0.5365\n",
      "Epoch 22/50\n",
      "50000/50000 [==============================] - 39s 772us/step - loss: 0.9483 - accuracy: 0.6592 - val_loss: 1.4215 - val_accuracy: 0.5282\n",
      "Epoch 23/50\n",
      "50000/50000 [==============================] - 36s 722us/step - loss: 0.9241 - accuracy: 0.6666 - val_loss: 1.5329 - val_accuracy: 0.5074\n",
      "Epoch 24/50\n",
      "50000/50000 [==============================] - 37s 731us/step - loss: 0.8987 - accuracy: 0.6744 - val_loss: 1.5014 - val_accuracy: 0.5209\n",
      "Epoch 25/50\n",
      "50000/50000 [==============================] - 36s 726us/step - loss: 0.8585 - accuracy: 0.6909 - val_loss: 1.5250 - val_accuracy: 0.5228\n",
      "Epoch 26/50\n",
      "50000/50000 [==============================] - 38s 751us/step - loss: 0.8304 - accuracy: 0.6995 - val_loss: 1.5223 - val_accuracy: 0.5316\n",
      "Epoch 27/50\n",
      "50000/50000 [==============================] - 41s 824us/step - loss: 0.8028 - accuracy: 0.7122 - val_loss: 1.5601 - val_accuracy: 0.5190\n",
      "Epoch 28/50\n",
      "50000/50000 [==============================] - 40s 793us/step - loss: 0.7757 - accuracy: 0.7214 - val_loss: 1.5900 - val_accuracy: 0.5172\n",
      "Epoch 29/50\n",
      "50000/50000 [==============================] - 40s 794us/step - loss: 0.7432 - accuracy: 0.7322 - val_loss: 1.6484 - val_accuracy: 0.5206\n",
      "Epoch 30/50\n",
      "50000/50000 [==============================] - 39s 775us/step - loss: 0.7228 - accuracy: 0.7377 - val_loss: 1.6840 - val_accuracy: 0.5166\n",
      "Epoch 31/50\n",
      "50000/50000 [==============================] - 41s 812us/step - loss: 0.6995 - accuracy: 0.7499 - val_loss: 1.7143 - val_accuracy: 0.5176\n",
      "Epoch 32/50\n",
      "50000/50000 [==============================] - 40s 802us/step - loss: 0.6741 - accuracy: 0.7562 - val_loss: 1.7784 - val_accuracy: 0.5179\n",
      "Epoch 33/50\n",
      "50000/50000 [==============================] - 42s 843us/step - loss: 0.6432 - accuracy: 0.7672 - val_loss: 1.8606 - val_accuracy: 0.5184\n",
      "Epoch 34/50\n",
      "50000/50000 [==============================] - 37s 743us/step - loss: 0.6338 - accuracy: 0.7716 - val_loss: 1.8960 - val_accuracy: 0.5034\n",
      "Epoch 35/50\n",
      "50000/50000 [==============================] - 42s 844us/step - loss: 0.6016 - accuracy: 0.7828 - val_loss: 1.9252 - val_accuracy: 0.5163\n",
      "Epoch 36/50\n",
      "50000/50000 [==============================] - 37s 746us/step - loss: 0.5861 - accuracy: 0.7888 - val_loss: 1.9634 - val_accuracy: 0.5179\n",
      "Epoch 37/50\n",
      "50000/50000 [==============================] - 38s 751us/step - loss: 0.5654 - accuracy: 0.7949 - val_loss: 2.0661 - val_accuracy: 0.5011\n",
      "Epoch 38/50\n",
      "50000/50000 [==============================] - 37s 749us/step - loss: 0.5389 - accuracy: 0.8041 - val_loss: 2.0670 - val_accuracy: 0.5101\n",
      "Epoch 39/50\n",
      "50000/50000 [==============================] - 37s 740us/step - loss: 0.5265 - accuracy: 0.8074 - val_loss: 2.1356 - val_accuracy: 0.5024\n",
      "Epoch 40/50\n",
      "50000/50000 [==============================] - 38s 754us/step - loss: 0.5077 - accuracy: 0.8171 - val_loss: 2.1974 - val_accuracy: 0.5117\n",
      "Epoch 41/50\n",
      "50000/50000 [==============================] - 37s 740us/step - loss: 0.4846 - accuracy: 0.8242 - val_loss: 2.2295 - val_accuracy: 0.5095\n",
      "Epoch 42/50\n",
      "50000/50000 [==============================] - 37s 743us/step - loss: 0.4745 - accuracy: 0.8312 - val_loss: 2.2934 - val_accuracy: 0.5151\n",
      "Epoch 43/50\n",
      "50000/50000 [==============================] - 37s 750us/step - loss: 0.4596 - accuracy: 0.8339 - val_loss: 2.3242 - val_accuracy: 0.5065\n",
      "Epoch 44/50\n",
      "50000/50000 [==============================] - 37s 735us/step - loss: 0.4580 - accuracy: 0.8326 - val_loss: 2.4115 - val_accuracy: 0.5069\n",
      "Epoch 45/50\n",
      "50000/50000 [==============================] - 37s 737us/step - loss: 0.4244 - accuracy: 0.8468 - val_loss: 2.4419 - val_accuracy: 0.5131\n",
      "Epoch 46/50\n",
      "50000/50000 [==============================] - 38s 751us/step - loss: 0.4119 - accuracy: 0.8513 - val_loss: 2.5205 - val_accuracy: 0.5028\n",
      "Epoch 47/50\n",
      "50000/50000 [==============================] - 37s 746us/step - loss: 0.4261 - accuracy: 0.8455 - val_loss: 2.5150 - val_accuracy: 0.5064\n",
      "Epoch 48/50\n",
      "50000/50000 [==============================] - 38s 754us/step - loss: 0.3897 - accuracy: 0.8598 - val_loss: 2.6544 - val_accuracy: 0.4993\n",
      "Epoch 49/50\n",
      "50000/50000 [==============================] - 38s 752us/step - loss: 0.3965 - accuracy: 0.8546 - val_loss: 2.7316 - val_accuracy: 0.4999\n",
      "Epoch 50/50\n",
      "50000/50000 [==============================] - 37s 744us/step - loss: 0.3838 - accuracy: 0.8630 - val_loss: 2.6122 - val_accuracy: 0.5072\n"
     ]
    },
    {
     "data": {
      "text/plain": [
       "<keras.callbacks.callbacks.History at 0x1fcb07ab4c8>"
      ]
     },
     "execution_count": 10,
     "metadata": {},
     "output_type": "execute_result"
    }
   ],
   "source": [
    "model.fit(x_train, y_train, \n",
    "          epochs=EPOCHS, \n",
    "          batch_size=BATCH_SIZE, \n",
    "          validation_data=(x_test, y_test), \n",
    "          shuffle=True)"
   ]
  },
  {
   "cell_type": "code",
   "execution_count": 12,
   "metadata": {},
   "outputs": [
    {
     "data": {
      "image/png": "[encoded data removed]",
      "text/plain": [
       "<Figure size 432x288 with 1 Axes>"
      ]
     },
     "metadata": {
      "needs_background": "light"
     },
     "output_type": "display_data"
    },
    {
     "data": {
      "image/png": "[encoded data removed]",
      "text/plain": [
       "<Figure size 432x288 with 1 Axes>"
      ]
     },
     "metadata": {
      "needs_background": "light"
     },
     "output_type": "display_data"
    }
   ],
   "source": [
    "import matplotlib.pyplot as plt\n",
    "\n",
    "\n",
    "train_loss = model.history.history[\"loss\"]\n",
    "valid_loss = model.history.history[\"val_loss\"]\n",
    "\n",
    "train_acc = model.history.history[\"accuracy\"]\n",
    "valid_acc = model.history.history[\"val_accuracy\"]\n",
    "\n",
    "plt.plot(range(len(train_loss)), train_loss, label=\"train loss\")\n",
    "plt.plot(range(len(valid_loss)), valid_loss, label=\"valid loss\")\n",
    "plt.legend()\n",
    "plt.title(\"Loss\")\n",
    "plt.show()\n",
    "\n",
    "plt.plot(range(len(train_acc)), train_acc, label=\"train accuracy\")\n",
    "plt.plot(range(len(valid_acc)), valid_acc, label=\"valid accuracy\")\n",
    "plt.legend()\n",
    "plt.title(\"Accuracy\")\n",
    "plt.show()"
   ]
  },
  {
   "cell_type": "code",
   "execution_count": null,
   "metadata": {},
   "outputs": [],
   "source": []
  }
 ],
 "metadata": {
  "kernelspec": {
   "display_name": "Python 3",
   "language": "python",
   "name": "python3"
  },
  "language_info": {
   "codemirror_mode": {
    "name": "ipython",
    "version": 3
   },
   "file_extension": ".py",
   "mimetype": "text/x-python",
   "name": "python",
   "nbconvert_exporter": "python",
   "pygments_lexer": "ipython3",
   "version": "3.7.4"
  }
 },
 "nbformat": 4,
 "nbformat_minor": 2
}
