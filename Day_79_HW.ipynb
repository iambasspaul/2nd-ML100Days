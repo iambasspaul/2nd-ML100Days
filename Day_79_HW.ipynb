{
 "cells": [
  {
   "cell_type": "markdown",
   "metadata": {},
   "source": [
    "## Work\n",
    "1. 請比較 SGD optimizer 不同的 momentum 及使用 nesterov 與否的表現"
   ]
  },
  {
   "cell_type": "code",
   "execution_count": 1,
   "metadata": {},
   "outputs": [
    {
     "name": "stderr",
     "output_type": "stream",
     "text": [
      "Using TensorFlow backend.\n"
     ]
    }
   ],
   "source": [
    "import os\n",
    "import keras\n",
    "\n",
    "# 本作業可以不需使用 GPU, 將 GPU 設定為 \"無\" (若想使用可自行開啟)\n",
    "os.environ[\"CUDA_VISIBLE_DEVICES\"] = \"\""
   ]
  },
  {
   "cell_type": "code",
   "execution_count": 2,
   "metadata": {},
   "outputs": [],
   "source": [
    "train, test = keras.datasets.cifar10.load_data()"
   ]
  },
  {
   "cell_type": "code",
   "execution_count": 3,
   "metadata": {},
   "outputs": [],
   "source": [
    "## 資料前處理\n",
    "def preproc_x(x, flatten=True):\n",
    "    x = x / 255.\n",
    "    if flatten:\n",
    "        x = x.reshape((len(x), -1))\n",
    "    return x\n",
    "\n",
    "def preproc_y(y, num_classes=10):\n",
    "    if y.shape[-1] == 1:\n",
    "        y = keras.utils.to_categorical(y, num_classes)\n",
    "    return y    "
   ]
  },
  {
   "cell_type": "code",
   "execution_count": 4,
   "metadata": {},
   "outputs": [],
   "source": [
    "x_train, y_train = train\n",
    "x_test, y_test = test\n",
    "\n",
    "# 資料前處理 - X 標準化\n",
    "x_train = preproc_x(x_train)\n",
    "x_test = preproc_x(x_test)\n",
    "\n",
    "# 資料前處理 -Y 轉成 onehot\n",
    "y_train = preproc_y(y_train)\n",
    "y_test = preproc_y(y_test)"
   ]
  },
  {
   "cell_type": "code",
   "execution_count": 5,
   "metadata": {},
   "outputs": [],
   "source": [
    "def build_mlp(input_shape, output_units=10, num_neurons=[1000, 500, 256, 100, 50]):\n",
    "    input_layer = keras.layers.Input(input_shape)\n",
    "    \n",
    "    for i, n_units in enumerate(num_neurons):\n",
    "        if i == 0:\n",
    "            x = keras.layers.Dense(units=n_units, activation=\"relu\", name=\"hidden_layer\"+str(i+1))(input_layer)\n",
    "        else:\n",
    "            x = keras.layers.Dense(units=n_units, activation=\"relu\", name=\"hidden_layer\"+str(i+1))(x)\n",
    "    \n",
    "    out = keras.layers.Dense(units=output_units, activation=\"softmax\", name=\"output\")(x)\n",
    "    \n",
    "    model = keras.models.Model(inputs=[input_layer], outputs=[out])\n",
    "    return model"
   ]
  },
  {
   "cell_type": "code",
   "execution_count": 6,
   "metadata": {},
   "outputs": [],
   "source": [
    "\"\"\"Code Here\n",
    "設定超參數\n",
    "\"\"\"\n",
    "LEARNING_RATE = [1e-1, 1e-2, 1e-3, 1e-4, 1e-5]\n",
    "EPOCHS = 50\n",
    "BATCH_SIZE = 256\n",
    "MOMENTUM = 0.5"
   ]
  },
  {
   "cell_type": "code",
   "execution_count": 7,
   "metadata": {
    "scrolled": true
   },
   "outputs": [
    {
     "name": "stdout",
     "output_type": "stream",
     "text": [
      "Experiment with LR = 0.100000\n",
      "Model: \"model_1\"\n",
      "_________________________________________________________________\n",
      "Layer (type)                 Output Shape              Param #   \n",
      "=================================================================\n",
      "input_1 (InputLayer)         (None, 3072)              0         \n",
      "_________________________________________________________________\n",
      "hidden_layer1 (Dense)        (None, 1000)              3073000   \n",
      "_________________________________________________________________\n",
      "hidden_layer2 (Dense)        (None, 500)               500500    \n",
      "_________________________________________________________________\n",
      "hidden_layer3 (Dense)        (None, 256)               128256    \n",
      "_________________________________________________________________\n",
      "hidden_layer4 (Dense)        (None, 100)               25700     \n",
      "_________________________________________________________________\n",
      "hidden_layer5 (Dense)        (None, 50)                5050      \n",
      "_________________________________________________________________\n",
      "output (Dense)               (None, 10)                510       \n",
      "=================================================================\n",
      "Total params: 3,733,016\n",
      "Trainable params: 3,733,016\n",
      "Non-trainable params: 0\n",
      "_________________________________________________________________\n",
      "Experiment with LR = 0.010000\n",
      "Model: \"model_1\"\n",
      "_________________________________________________________________\n",
      "Layer (type)                 Output Shape              Param #   \n",
      "=================================================================\n",
      "input_1 (InputLayer)         (None, 3072)              0         \n",
      "_________________________________________________________________\n",
      "hidden_layer1 (Dense)        (None, 1000)              3073000   \n",
      "_________________________________________________________________\n",
      "hidden_layer2 (Dense)        (None, 500)               500500    \n",
      "_________________________________________________________________\n",
      "hidden_layer3 (Dense)        (None, 256)               128256    \n",
      "_________________________________________________________________\n",
      "hidden_layer4 (Dense)        (None, 100)               25700     \n",
      "_________________________________________________________________\n",
      "hidden_layer5 (Dense)        (None, 50)                5050      \n",
      "_________________________________________________________________\n",
      "output (Dense)               (None, 10)                510       \n",
      "=================================================================\n",
      "Total params: 3,733,016\n",
      "Trainable params: 3,733,016\n",
      "Non-trainable params: 0\n",
      "_________________________________________________________________\n",
      "Experiment with LR = 0.001000\n",
      "Model: \"model_1\"\n",
      "_________________________________________________________________\n",
      "Layer (type)                 Output Shape              Param #   \n",
      "=================================================================\n",
      "input_1 (InputLayer)         (None, 3072)              0         \n",
      "_________________________________________________________________\n",
      "hidden_layer1 (Dense)        (None, 1000)              3073000   \n",
      "_________________________________________________________________\n",
      "hidden_layer2 (Dense)        (None, 500)               500500    \n",
      "_________________________________________________________________\n",
      "hidden_layer3 (Dense)        (None, 256)               128256    \n",
      "_________________________________________________________________\n",
      "hidden_layer4 (Dense)        (None, 100)               25700     \n",
      "_________________________________________________________________\n",
      "hidden_layer5 (Dense)        (None, 50)                5050      \n",
      "_________________________________________________________________\n",
      "output (Dense)               (None, 10)                510       \n",
      "=================================================================\n",
      "Total params: 3,733,016\n",
      "Trainable params: 3,733,016\n",
      "Non-trainable params: 0\n",
      "_________________________________________________________________\n",
      "Experiment with LR = 0.000100\n",
      "Model: \"model_1\"\n",
      "_________________________________________________________________\n",
      "Layer (type)                 Output Shape              Param #   \n",
      "=================================================================\n",
      "input_1 (InputLayer)         (None, 3072)              0         \n",
      "_________________________________________________________________\n",
      "hidden_layer1 (Dense)        (None, 1000)              3073000   \n",
      "_________________________________________________________________\n",
      "hidden_layer2 (Dense)        (None, 500)               500500    \n",
      "_________________________________________________________________\n",
      "hidden_layer3 (Dense)        (None, 256)               128256    \n",
      "_________________________________________________________________\n",
      "hidden_layer4 (Dense)        (None, 100)               25700     \n",
      "_________________________________________________________________\n",
      "hidden_layer5 (Dense)        (None, 50)                5050      \n",
      "_________________________________________________________________\n",
      "output (Dense)               (None, 10)                510       \n",
      "=================================================================\n",
      "Total params: 3,733,016\n",
      "Trainable params: 3,733,016\n",
      "Non-trainable params: 0\n",
      "_________________________________________________________________\n",
      "Experiment with LR = 0.000010\n",
      "Model: \"model_1\"\n",
      "_________________________________________________________________\n",
      "Layer (type)                 Output Shape              Param #   \n",
      "=================================================================\n",
      "input_1 (InputLayer)         (None, 3072)              0         \n",
      "_________________________________________________________________\n",
      "hidden_layer1 (Dense)        (None, 1000)              3073000   \n",
      "_________________________________________________________________\n",
      "hidden_layer2 (Dense)        (None, 500)               500500    \n",
      "_________________________________________________________________\n",
      "hidden_layer3 (Dense)        (None, 256)               128256    \n",
      "_________________________________________________________________\n",
      "hidden_layer4 (Dense)        (None, 100)               25700     \n",
      "_________________________________________________________________\n",
      "hidden_layer5 (Dense)        (None, 50)                5050      \n",
      "_________________________________________________________________\n",
      "output (Dense)               (None, 10)                510       \n",
      "=================================================================\n",
      "Total params: 3,733,016\n",
      "Trainable params: 3,733,016\n",
      "Non-trainable params: 0\n",
      "_________________________________________________________________\n"
     ]
    }
   ],
   "source": [
    "results = {}\n",
    "\"\"\"Code Here\n",
    "撰寫你的訓練流程並將結果用 dictionary 紀錄\n",
    "\"\"\"\n",
    "for lr in LEARNING_RATE:\n",
    "    keras.backend.clear_session() # 把舊的 Graph 清掉\n",
    "    print(\"Experiment with LR = %.6f\" % (lr))\n",
    "    model = build_mlp(input_shape=x_train.shape[1:])\n",
    "    model.summary()\n",
    "    optimizer = keras.optimizers.SGD(lr=lr, nesterov=True, momentum=MOMENTUM)\n",
    "    model.compile(loss=\"categorical_crossentropy\", metrics=[\"accuracy\"], optimizer=optimizer)\n",
    "\n",
    "\n"
   ]
  },
  {
   "cell_type": "code",
   "execution_count": 8,
   "metadata": {},
   "outputs": [
    {
     "name": "stdout",
     "output_type": "stream",
     "text": [
      "Train on 50000 samples, validate on 10000 samples\n",
      "Epoch 1/50\n",
      "50000/50000 [==============================] - 19s 385us/step - loss: 2.3661 - accuracy: 0.1013 - val_loss: 2.3587 - val_accuracy: 0.1014\n",
      "Epoch 2/50\n",
      "50000/50000 [==============================] - 21s 425us/step - loss: 2.3545 - accuracy: 0.1014 - val_loss: 2.3482 - val_accuracy: 0.1019\n",
      "Epoch 3/50\n",
      "50000/50000 [==============================] - 21s 425us/step - loss: 2.3450 - accuracy: 0.1018 - val_loss: 2.3396 - val_accuracy: 0.1024\n",
      "Epoch 4/50\n",
      "50000/50000 [==============================] - 23s 463us/step - loss: 2.3370 - accuracy: 0.1018 - val_loss: 2.3325 - val_accuracy: 0.1022\n",
      "Epoch 5/50\n",
      "50000/50000 [==============================] - 22s 439us/step - loss: 2.3305 - accuracy: 0.1023 - val_loss: 2.3265 - val_accuracy: 0.1013\n",
      "Epoch 6/50\n",
      "50000/50000 [==============================] - 24s 477us/step - loss: 2.3250 - accuracy: 0.1026 - val_loss: 2.3215 - val_accuracy: 0.1013\n",
      "Epoch 7/50\n",
      "50000/50000 [==============================] - 23s 452us/step - loss: 2.3203 - accuracy: 0.1029 - val_loss: 2.3172 - val_accuracy: 0.1018\n",
      "Epoch 8/50\n",
      "50000/50000 [==============================] - 23s 452us/step - loss: 2.3163 - accuracy: 0.1033 - val_loss: 2.3136 - val_accuracy: 0.1029\n",
      "Epoch 9/50\n",
      "50000/50000 [==============================] - 21s 411us/step - loss: 2.3128 - accuracy: 0.1038 - val_loss: 2.3104 - val_accuracy: 0.1034\n",
      "Epoch 10/50\n",
      "50000/50000 [==============================] - 22s 440us/step - loss: 2.3097 - accuracy: 0.1049 - val_loss: 2.3076 - val_accuracy: 0.1038\n",
      "Epoch 11/50\n",
      "50000/50000 [==============================] - 19s 383us/step - loss: 2.3070 - accuracy: 0.1060 - val_loss: 2.3051 - val_accuracy: 0.1056\n",
      "Epoch 12/50\n",
      "50000/50000 [==============================] - 19s 377us/step - loss: 2.3045 - accuracy: 0.1074 - val_loss: 2.3028 - val_accuracy: 0.1081\n",
      "Epoch 13/50\n",
      "50000/50000 [==============================] - 19s 378us/step - loss: 2.3023 - accuracy: 0.1086 - val_loss: 2.3007 - val_accuracy: 0.1091\n",
      "Epoch 14/50\n",
      "50000/50000 [==============================] - 19s 379us/step - loss: 2.3002 - accuracy: 0.1109 - val_loss: 2.2987 - val_accuracy: 0.1121\n",
      "Epoch 15/50\n",
      "50000/50000 [==============================] - 19s 385us/step - loss: 2.2983 - accuracy: 0.1130 - val_loss: 2.2969 - val_accuracy: 0.1147\n",
      "Epoch 16/50\n",
      "50000/50000 [==============================] - 19s 388us/step - loss: 2.2965 - accuracy: 0.1148 - val_loss: 2.2952 - val_accuracy: 0.1170\n",
      "Epoch 17/50\n",
      "50000/50000 [==============================] - 19s 389us/step - loss: 2.2948 - accuracy: 0.1174 - val_loss: 2.2936 - val_accuracy: 0.1208\n",
      "Epoch 18/50\n",
      "50000/50000 [==============================] - 19s 389us/step - loss: 2.2932 - accuracy: 0.1201 - val_loss: 2.2921 - val_accuracy: 0.1217\n",
      "Epoch 19/50\n",
      "50000/50000 [==============================] - 19s 388us/step - loss: 2.2917 - accuracy: 0.1227 - val_loss: 2.2906 - val_accuracy: 0.1241\n",
      "Epoch 20/50\n",
      "50000/50000 [==============================] - 19s 383us/step - loss: 2.2903 - accuracy: 0.1256 - val_loss: 2.2892 - val_accuracy: 0.1291\n",
      "Epoch 21/50\n",
      "50000/50000 [==============================] - 19s 388us/step - loss: 2.2889 - accuracy: 0.1279 - val_loss: 2.2879 - val_accuracy: 0.1313\n",
      "Epoch 22/50\n",
      "50000/50000 [==============================] - 19s 388us/step - loss: 2.2876 - accuracy: 0.1296 - val_loss: 2.2866 - val_accuracy: 0.1355\n",
      "Epoch 23/50\n",
      "50000/50000 [==============================] - 19s 388us/step - loss: 2.2863 - accuracy: 0.1325 - val_loss: 2.2854 - val_accuracy: 0.1381\n",
      "Epoch 24/50\n",
      "50000/50000 [==============================] - 19s 383us/step - loss: 2.2850 - accuracy: 0.1345 - val_loss: 2.2842 - val_accuracy: 0.1405\n",
      "Epoch 25/50\n",
      "50000/50000 [==============================] - 19s 384us/step - loss: 2.2838 - accuracy: 0.1366 - val_loss: 2.2830 - val_accuracy: 0.1419\n",
      "Epoch 26/50\n",
      "50000/50000 [==============================] - 19s 388us/step - loss: 2.2827 - accuracy: 0.1390 - val_loss: 2.2819 - val_accuracy: 0.1419\n",
      "Epoch 27/50\n",
      "50000/50000 [==============================] - 20s 394us/step - loss: 2.2815 - accuracy: 0.1417 - val_loss: 2.2808 - val_accuracy: 0.1430\n",
      "Epoch 28/50\n",
      "50000/50000 [==============================] - 20s 390us/step - loss: 2.2804 - accuracy: 0.1432 - val_loss: 2.2797 - val_accuracy: 0.1451\n",
      "Epoch 29/50\n",
      "50000/50000 [==============================] - 19s 389us/step - loss: 2.2793 - accuracy: 0.1444 - val_loss: 2.2787 - val_accuracy: 0.1459\n",
      "Epoch 30/50\n",
      "50000/50000 [==============================] - 20s 393us/step - loss: 2.2783 - accuracy: 0.1462 - val_loss: 2.2776 - val_accuracy: 0.1485\n",
      "Epoch 31/50\n",
      "50000/50000 [==============================] - 20s 392us/step - loss: 2.2772 - accuracy: 0.1479 - val_loss: 2.2766 - val_accuracy: 0.1504\n",
      "Epoch 32/50\n",
      "50000/50000 [==============================] - 19s 388us/step - loss: 2.2762 - accuracy: 0.1491 - val_loss: 2.2757 - val_accuracy: 0.1539\n",
      "Epoch 33/50\n",
      "50000/50000 [==============================] - 20s 393us/step - loss: 2.2752 - accuracy: 0.1501 - val_loss: 2.2747 - val_accuracy: 0.1558\n",
      "Epoch 34/50\n",
      "50000/50000 [==============================] - 19s 390us/step - loss: 2.2742 - accuracy: 0.1506 - val_loss: 2.2737 - val_accuracy: 0.1577\n",
      "Epoch 35/50\n",
      "50000/50000 [==============================] - 19s 388us/step - loss: 2.2733 - accuracy: 0.1517 - val_loss: 2.2728 - val_accuracy: 0.1583\n",
      "Epoch 36/50\n",
      "50000/50000 [==============================] - 19s 389us/step - loss: 2.2723 - accuracy: 0.1530 - val_loss: 2.2719 - val_accuracy: 0.1583\n",
      "Epoch 37/50\n",
      "50000/50000 [==============================] - 19s 388us/step - loss: 2.2714 - accuracy: 0.1533 - val_loss: 2.2710 - val_accuracy: 0.1600\n",
      "Epoch 38/50\n",
      "50000/50000 [==============================] - 19s 389us/step - loss: 2.2705 - accuracy: 0.1542 - val_loss: 2.2701 - val_accuracy: 0.1613\n",
      "Epoch 39/50\n",
      "50000/50000 [==============================] - 19s 389us/step - loss: 2.2696 - accuracy: 0.1552 - val_loss: 2.2692 - val_accuracy: 0.1622\n",
      "Epoch 40/50\n",
      "50000/50000 [==============================] - 22s 448us/step - loss: 2.2687 - accuracy: 0.1558 - val_loss: 2.2683 - val_accuracy: 0.1632\n",
      "Epoch 41/50\n",
      "50000/50000 [==============================] - 22s 432us/step - loss: 2.2678 - accuracy: 0.1562 - val_loss: 2.2675 - val_accuracy: 0.1637\n",
      "Epoch 42/50\n",
      "50000/50000 [==============================] - 22s 432us/step - loss: 2.2669 - accuracy: 0.1566 - val_loss: 2.2666 - val_accuracy: 0.1645\n",
      "Epoch 43/50\n",
      "50000/50000 [==============================] - 23s 464us/step - loss: 2.2660 - accuracy: 0.1574 - val_loss: 2.2658 - val_accuracy: 0.1658\n",
      "Epoch 44/50\n",
      "50000/50000 [==============================] - 24s 475us/step - loss: 2.2652 - accuracy: 0.1584 - val_loss: 2.2650 - val_accuracy: 0.1664\n",
      "Epoch 45/50\n",
      "50000/50000 [==============================] - 23s 461us/step - loss: 2.2644 - accuracy: 0.1589 - val_loss: 2.2641 - val_accuracy: 0.1672\n",
      "Epoch 46/50\n",
      "50000/50000 [==============================] - 23s 465us/step - loss: 2.2635 - accuracy: 0.1594 - val_loss: 2.2633 - val_accuracy: 0.1686\n",
      "Epoch 47/50\n",
      "50000/50000 [==============================] - 23s 466us/step - loss: 2.2627 - accuracy: 0.1602 - val_loss: 2.2625 - val_accuracy: 0.1692\n",
      "Epoch 48/50\n",
      "50000/50000 [==============================] - 23s 461us/step - loss: 2.2619 - accuracy: 0.1607 - val_loss: 2.2617 - val_accuracy: 0.1694\n",
      "Epoch 49/50\n",
      "50000/50000 [==============================] - 23s 467us/step - loss: 2.2611 - accuracy: 0.1615 - val_loss: 2.2609 - val_accuracy: 0.1699\n",
      "Epoch 50/50\n",
      "50000/50000 [==============================] - 23s 464us/step - loss: 2.2603 - accuracy: 0.1618 - val_loss: 2.2602 - val_accuracy: 0.1703\n"
     ]
    },
    {
     "data": {
      "text/plain": [
       "<keras.callbacks.callbacks.History at 0x16846d61ac8>"
      ]
     },
     "execution_count": 8,
     "metadata": {},
     "output_type": "execute_result"
    }
   ],
   "source": [
    "    model.fit(x_train, y_train, \n",
    "              epochs=EPOCHS, \n",
    "              batch_size=BATCH_SIZE, \n",
    "              validation_data=(x_test, y_test), \n",
    "              shuffle=True)\n",
    "  "
   ]
  },
  {
   "cell_type": "code",
   "execution_count": 9,
   "metadata": {},
   "outputs": [],
   "source": [
    "  \n",
    "    # Collect results\n",
    "    train_loss = model.history.history[\"loss\"]\n",
    "    valid_loss = model.history.history[\"val_loss\"]\n",
    "    train_acc = model.history.history[\"accuracy\"]\n",
    "    valid_acc = model.history.history[\"val_accuracy\"]\n",
    "    \n",
    "    exp_name_tag = \"exp-lr-%s\" % str(lr)\n",
    "    results[exp_name_tag] = {'train-loss': train_loss,\n",
    "                             'valid-loss': valid_loss,\n",
    "                             'train-acc': train_acc,\n",
    "                             'valid-acc': valid_acc}"
   ]
  },
  {
   "cell_type": "code",
   "execution_count": 10,
   "metadata": {},
   "outputs": [
    {
     "data": {
      "image/png": "[encoded data removed]",
      "text/plain": [
       "<Figure size 576x432 with 1 Axes>"
      ]
     },
     "metadata": {
      "needs_background": "light"
     },
     "output_type": "display_data"
    },
    {
     "data": {
      "image/png": "[encoded data removed]",
      "text/plain": [
       "<Figure size 576x432 with 1 Axes>"
      ]
     },
     "metadata": {
      "needs_background": "light"
     },
     "output_type": "display_data"
    }
   ],
   "source": [
    "import matplotlib.pyplot as plt\n",
    "%matplotlib inline\n",
    "\"\"\"Code Here\n",
    "將結果繪出\n",
    "\"\"\"\n",
    "color_bar = [\"r\", \"g\", \"b\", \"y\", \"m\", \"k\"]\n",
    "\n",
    "plt.figure(figsize=(8,6))\n",
    "for i, cond in enumerate(results.keys()):\n",
    "    plt.plot(range(len(results[cond]['train-loss'])),results[cond]['train-loss'], '-', label=cond, color=color_bar[i])\n",
    "    plt.plot(range(len(results[cond]['valid-loss'])),results[cond]['valid-loss'], '--', label=cond, color=color_bar[i])\n",
    "plt.title(\"Loss\")\n",
    "plt.legend()\n",
    "plt.show()\n",
    "\n",
    "plt.figure(figsize=(8,6))\n",
    "for i, cond in enumerate(results.keys()):\n",
    "    plt.plot(range(len(results[cond]['train-acc'])),results[cond]['train-acc'], '-', label=cond, color=color_bar[i])\n",
    "    plt.plot(range(len(results[cond]['valid-acc'])),results[cond]['valid-acc'], '--', label=cond, color=color_bar[i])\n",
    "plt.title(\"Accuracy\")\n",
    "plt.legend()\n",
    "plt.show()"
   ]
  },
  {
   "cell_type": "code",
   "execution_count": null,
   "metadata": {},
   "outputs": [],
   "source": []
  }
 ],
 "metadata": {
  "kernelspec": {
   "display_name": "Python 3",
   "language": "python",
   "name": "python3"
  },
  "language_info": {
   "codemirror_mode": {
    "name": "ipython",
    "version": 3
   },
   "file_extension": ".py",
   "mimetype": "text/x-python",
   "name": "python",
   "nbconvert_exporter": "python",
   "pygments_lexer": "ipython3",
   "version": "3.7.4"
  }
 },
 "nbformat": 4,
 "nbformat_minor": 2
}
